{
 "cells": [
  {
   "cell_type": "markdown",
   "metadata": {},
   "source": [
    "#### Overview\n",
    "\n",
    "The Law of Large Numbers states that if we repeatedly compute mean values of large samples\n",
    "derived from any population distribution with finite mean & variance,\n",
    "the samling distribution mean approaches the true mean of the population\n",
    "& the sampling distribution variance approaches zero."
   ]
  },
  {
   "cell_type": "markdown",
   "metadata": {},
   "source": [
    "#### Properties of mean & variance\n",
    "\n",
    "Given a random variable $X$ and two numbers $a$, $b$,\n",
    "\n",
    "$$\n",
    "        \\boxed{\n",
    "                E[aX+b] = aE[X] + b\n",
    "        }\n",
    "$$\n",
    "\n",
    "$$\n",
    "        V[aX+b] = E[(aX+b - E[aX+b])^2] = E[a^2{(X - E[X])}^2]\n",
    "$$\n",
    "\n",
    "$$\n",
    "        \\boxed{\n",
    "        V[aX+b] = a^2V[X]\n",
    "        }\n",
    "$$\n",
    "\n",
    "Given two random variables X and Y, the expectation and variance of r.v. (X+Y)\n",
    "is given as,\n",
    "\n",
    "$$\n",
    "        E[X+Y] = \\sum_x \\sum_y (x+y) \\cdot P(X=x) \\cdot P(Y=y)\n",
    "$$\n",
    "\n",
    "$$\n",
    "        \\Rightarrow \\sum_x x \\cdot P(X=x) \\sum_y \\cdot P(Y=y) + \\sum_y y \\cdot\n",
    "        P(Y=y) \\sum_x \\cdot P(X=x)\n",
    "$$\n",
    "\n",
    "$$\n",
    "        \\boxed{\n",
    "                E[X+Y] = E[X] + E[Y]\n",
    "        }\n",
    "$$\n",
    "\n",
    "$$\n",
    "        V[X+Y] = \\sum_x \\sum_y (x+y-(E[X]+E[Y]))^2 \\cdot P(X=x) \\cdot P(Y=y)\n",
    "$$\n",
    "\n",
    "$$\n",
    "        \\boxed{\n",
    "                V[X+Y] = V[X] + V[Y] + 2 \\cdot Cov(X, Y)\n",
    "        }\n",
    "$$\n",
    "\n",
    "\n",
    "Note one interesting property of Variance: $V[X + X] = 2V[X] \\ne 4V[X] = V[2X]$\n",
    "\n",
    "\n",
    "The intuition here is that when we sum up multiple independent identical random\n",
    "variables, we allow their opposite results to interfere with each other,\n",
    "decreasing the measure of spread. While when we scale the random variable, it\n",
    "is equivalent to only letting the correlated parts of the distribution copies\n",
    "interfere, thus, we get higher measure of spread.\n"
   ]
  },
  {
   "cell_type": "markdown",
   "metadata": {},
   "source": [
    "#### Markov & Chebyshev's inequalities\n",
    "\n",
    "These inequalities give us the upper bounds on the probability of finding\n",
    "values at least as extremal as a given lower bound.\n",
    "\n",
    "$$\n",
    "    \\mu = E[X] = \\sum x \\cdot P(X=x) \\ge \\sum_{x \\ge a} x \\cdot P(X=x) \\ge\n",
    "    \\sum_{x \\ge a} a \\cdot P(X=x)\n",
    "$$\n",
    "\n",
    "$$\n",
    "    \\boxed{\n",
    "        P(x \\ge a) \\le \\frac{\\mu}{a}\n",
    "    }\n",
    "$$\n",
    "\n",
    "$$\n",
    "    \\begin{aligned}\n",
    "    \\sigma = V[X] & = \\sum (x-\\mu)^2 \\cdot P(X=x) \\\\\n",
    "    & \\ge \\sum_{|x-\\mu| \\ge a} (x-\\mu)^2 \\cdot P(X=x) \\\\\n",
    "    & \\ge \\sum_{|x-\\mu| \\ge a} a^2 \\cdot P(X=x)\n",
    "    \\end{aligned}\n",
    "$$\n",
    "\n",
    "$$\n",
    "    \\boxed {\n",
    "        P(|x-\\mu| \\ge a) \\le \\frac{\\sigma^2}{a^2}\n",
    "        \\Rightarrow P(|x-\\mu| \\ge k\\sigma) \\le \\frac{1}{k^2}\n",
    "    }\n",
    "$$\n"
   ]
  },
  {
   "cell_type": "markdown",
   "metadata": {},
   "source": [
    "\n",
    "#### Law of Large Numbers\n",
    "\n",
    "The law of large numbers considers the sample of size n taken from Identical &\n",
    "Independently distributed copies of random variable $X$. When we take large\n",
    "samples & apply Chebyshev's inequality to this sampling distribution, we\n",
    "observe that the expected sample average approaches the true mean.\n",
    "\n",
    "$$\n",
    "    \\bar{X}_n = \\frac{X_1+..+X_n}{n}\n",
    "$$\n",
    "\n",
    "$$\n",
    "    \\boxed { \n",
    "        E[\\bar{X}_n] = E[X]\n",
    "    }\n",
    "$$\n",
    "\n",
    "$$\n",
    "    V[\\bar{X}_n] = V\\left[\\frac{(X_1+..+X_n)}{n}\\right] =\n",
    "    \\frac{V[(X_1+..+X_n)]}{n^2}\n",
    "$$\n",
    "\n",
    "$$\n",
    "    \\boxed {\n",
    "        V[\\bar{X}_n] = \\frac{V[X]}{n}\n",
    "    }\n",
    "$$\n",
    "\n",
    "$$\n",
    "    \\boxed {\n",
    "    P(|\\bar{x}_n-E[X]| \\ge \\epsilon) \\le \\frac{V[X]}{n \\cdot \\epsilon^2 }\n",
    "    }\n",
    "$$\n",
    "\n",
    "$$\n",
    "    \\therefore n \\rightarrow \\infty \\implies \\bar{X}_n \\xrightarrow{P} E[X]\n",
    "$$"
   ]
  },
  {
   "cell_type": "markdown",
   "metadata": {},
   "source": [
    "#### Simulation\n",
    "\n",
    "A simple simulation of a (pseudo-)random icosahedral dice roll shows this behavior in population mean.\n",
    "The sample mean can be significantly off for smaller sample sizes, but approaches the expected value as the sample size grows."
   ]
  },
  {
   "cell_type": "code",
   "execution_count": 29,
   "metadata": {},
   "outputs": [
    {
     "data": {
      "text/plain": [
       "[<matplotlib.lines.Line2D at 0x7de6472b9160>]"
      ]
     },
     "execution_count": 29,
     "metadata": {},
     "output_type": "execute_result"
    },
    {
     "data": {
      "image/png": "[encoded data removed]",
      "text/plain": [
       "<Figure size 640x480 with 1 Axes>"
      ]
     },
     "metadata": {},
     "output_type": "display_data"
    }
   ],
   "source": [
    "import matplotlib\n",
    "from random import randrange\n",
    "\n",
    "sample_means = []\n",
    "for trials in range(1, 10001):\n",
    "    sample = [randrange(1, 21) for _ in range(trials)]\n",
    "    sample_means.append(sum(sample) / len(sample))\n",
    "\n",
    "matplotlib.pyplot.plot(sample_means)\n",
    "\n"
   ]
  }
 ],
 "metadata": {
  "kernelspec": {
   "display_name": "Python 3",
   "language": "python",
   "name": "python3"
  },
  "language_info": {
   "codemirror_mode": {
    "name": "ipython",
    "version": 3
   },
   "file_extension": ".py",
   "mimetype": "text/x-python",
   "name": "python",
   "nbconvert_exporter": "python",
   "pygments_lexer": "ipython3",
   "version": "3.9.2"
  },
  "orig_nbformat": 4
 },
 "nbformat": 4,
 "nbformat_minor": 2
}
