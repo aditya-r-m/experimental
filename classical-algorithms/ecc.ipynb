{
  "cells": [
    {
      "cell_type": "markdown",
      "metadata": {
        "id": "view-in-github",
        "colab_type": "text"
      },
      "source": [
        "<a href=\"https://colab.research.google.com/github/aditya-r-m/experimental/blob/main/classical-algorithms/ecc.ipynb\" target=\"_parent\"><img src=\"https://colab.research.google.com/assets/colab-badge.svg\" alt=\"Open In Colab\"/></a>"
      ]
    },
    {
      "cell_type": "markdown",
      "metadata": {
        "id": "ob_sHn4igGqH"
      },
      "source": [
        "#### Overview\n",
        "\n",
        "There is rich theory around Finite Fields & Cyclic Linear Block Codes behind modern Error Correcting Codes.\n",
        "This notebook covers two of the most important concepts with basic working implementations:\n",
        "1. Hamming codes\n",
        "2. Reed-Solomon encoding + Berlekamp-Welch decoding\n",
        "\n",
        "To represent arithmetic operations in encoding & decoding procedures, we will use the simplest finite fields, with prime order, which are directly accessible using modular arithmetic on integers.\n",
        "We will also use basic utilities for linear transformations acting on vectors of these field elements.\n"
      ]
    },
    {
      "cell_type": "code",
      "execution_count": null,
      "metadata": {
        "id": "ApgmMd0WgGqI"
      },
      "outputs": [],
      "source": [
        "class ModInt(object):\n",
        "\n",
        "    def __init__(self, val = 0, mod = 2):\n",
        "        assert isinstance(val, int)\n",
        "        self._mod = mod\n",
        "        self._val = val % mod\n",
        "\n",
        "    def __add__(self, other):\n",
        "        assert isinstance(other, ModInt)\n",
        "        assert self._mod == other._mod\n",
        "        return ModInt(self._val + other._val, self._mod)\n",
        "\n",
        "    def __neg__(self):\n",
        "        return ModInt(-self._val, self._mod)\n",
        "\n",
        "    def __sub__(self, other):\n",
        "        assert isinstance(other, ModInt)\n",
        "        assert self._mod == other._mod\n",
        "        return ModInt(self._val - other._val, self._mod)\n",
        "\n",
        "    def __mul__(self, other):\n",
        "        assert isinstance(other, ModInt)\n",
        "        assert self._mod == other._mod\n",
        "        return ModInt(self._val * other._val, self._mod)\n",
        "\n",
        "    def is_zero(self):\n",
        "        return self._val == 0\n",
        "\n",
        "    def __inv(self): # Extended Euclid's algorithm\n",
        "        assert not self.is_zero()\n",
        "        m0, r0 = 0, self._mod\n",
        "        m1, r1 = 1, self._val\n",
        "        while r1 > 1: [m0, r0, m1, r1] = [\n",
        "            m1,\n",
        "            r1,\n",
        "            (m0 - (r0 // r1) * m1),\n",
        "            (r0 - (r0 // r1) * r1)]\n",
        "        return ModInt(m1, self._mod)\n",
        "\n",
        "    def __truediv__(self, other):\n",
        "        assert isinstance(other, ModInt)\n",
        "        assert self._mod == other._mod\n",
        "        return self * other.__inv()\n",
        "\n",
        "    def __eq__(self, other):\n",
        "        assert isinstance(other, ModInt)\n",
        "        assert self._mod == other._mod\n",
        "        return self._val == other._val\n",
        "\n",
        "    def __repr__(self):\n",
        "        return f\"{self._val} mod {self._mod}\"\n",
        "\n",
        "    def __str__(self):\n",
        "        return self.__repr__()\n",
        "\n",
        "    def __int__(self):\n",
        "        return self._val\n"
      ]
    },
    {
      "cell_type": "code",
      "execution_count": null,
      "metadata": {
        "id": "BmmRyhEKgGqJ"
      },
      "outputs": [],
      "source": [
        "from functools import reduce\n",
        "from copy import deepcopy\n",
        "\n",
        "# let T . X = Y, where T is a linear transformation acting on vector X\n",
        "\n",
        "# dot(T, X) = Y\n",
        "def dot(T, X):\n",
        "    return list(\n",
        "        reduce(\n",
        "            lambda a, b: a + b,\n",
        "            map(\n",
        "                lambda a: a[0] * a[1],\n",
        "                zip(v, X)))\n",
        "        for v in T)\n",
        "\n",
        "# inv(T, Y) = X\n",
        "def inv(T, Y):\n",
        "    [T, Y] = deepcopy([T, Y])\n",
        "\n",
        "    for i in range(len(T)):\n",
        "\n",
        "        if T[i][i].is_zero():\n",
        "            for j in range(i + 1, len(T)):\n",
        "                if T[j][i].is_zero(): continue\n",
        "                for k in range(len(T)): T[i][k] += T[j][k]\n",
        "                Y[i] += Y[j]\n",
        "                break\n",
        "        if T[i][i].is_zero(): raise Exception(\"transformation is not invertible\")\n",
        "\n",
        "        scaling_factor = T[i][i]\n",
        "        for k in range(len(T)): T[i][k] /= scaling_factor\n",
        "        Y[i] /= scaling_factor\n",
        "\n",
        "        for j in range(len(T)):\n",
        "            if j == i: continue\n",
        "            scaling_factor = T[j][i] / T[i][i]\n",
        "            for k in range(len(T)): T[j][k] -= scaling_factor * T[i][k]\n",
        "            Y[j] -= scaling_factor * Y[i]\n",
        "\n",
        "    return Y\n"
      ]
    },
    {
      "cell_type": "markdown",
      "metadata": {
        "id": "ydIwkBnZgGqJ"
      },
      "source": [
        "#### Hamming Codes\n",
        "\n",
        "There are various ways to look at Hamming Codes.\n",
        "They project low dimensional binary vectors to higher dimensions such that there is sufficient \"distance\" between valid codewords. Any invalid codeword can then be moved to the closest valid one.\n",
        "\n",
        "The additional bits can be considered parity bits located at indices with exactly one true bit in the binary representation. The values for parity bits are XOR-sums of all other positions with matching bit set in the binary representation.\n",
        "\n",
        "The computation process can be summarized in the form of a generator matrix that encodes the input, & a parity-check matrix which acts on the (possibly erroneous) code to give a syndrome vector. This syndrome vector is binary representation of the index with erroneous bit flip.\n"
      ]
    },
    {
      "cell_type": "code",
      "execution_count": null,
      "metadata": {
        "id": "yQD1aH54gGqJ"
      },
      "outputs": [],
      "source": [
        "# Hamming(7,4) implementation\n",
        "\n",
        "mod2 = lambda i : ModInt(i, 2)\n",
        "\n",
        "generator = list(map(lambda l: list(map(mod2, l)), [\n",
        "    [1,1,0,1], # 001 p[1,2,4]\n",
        "    [1,0,1,1], # 010 p[1,3,4]\n",
        "    [1,0,0,0], # 011 d[1]\n",
        "    [0,1,1,1], # 100 p[2,3,4]\n",
        "    [0,1,0,0], # 101 d[2]\n",
        "    [0,0,1,0], # 110 d[3]\n",
        "    [0,0,0,1], # 111 d[4]\n",
        "]))\n",
        "\n",
        "parity_checker = list(map(lambda l: list(map(mod2, l)), [\n",
        "    [1,0,1,0,1,0,1], # p001 : **1\n",
        "    [0,1,1,0,0,1,1], # p010 : *1*\n",
        "    [0,0,0,1,1,1,1], # p100 : 1**\n",
        "]))\n",
        "\n",
        "for d in range(16):\n",
        "    data = list(map(lambda x: mod2(int(x > 0)), [d&8,d&4,d&2,d&1]))\n",
        "    for e in range(-1, 7):\n",
        "        code = dot(generator, data)\n",
        "        if e >= 0: code[e] = mod2(1) - code[e]\n",
        "        syndrome = dot(parity_checker, code)\n",
        "        # Any single erroneous bit flip is identified by the syndrome vector\n",
        "        assert e == sum(int(s)<<i for (i, s) in enumerate(syndrome)) - 1\n"
      ]
    },
    {
      "cell_type": "markdown",
      "metadata": {
        "id": "0Ey_8eIngGqJ"
      },
      "source": [
        "#### Reed-Solomon Encoding\n",
        "\n",
        "Reed-Solomon codes are very useful for errors that occur in bursts.\n",
        "Instead of looking at parity bits over stream of binary values, we can consider the data as a stream of elements of a Finite Field.\n",
        "These elements are then considered coefficients of a polynomial.\n",
        "\n",
        "We evaluate this polynomial at a number of distinct points higher than the size of original data block - which becomes our code.\n",
        "This buffer giving us the ability to lose information & still be able to reconstruct all the polynomial coefficients.\n"
      ]
    },
    {
      "cell_type": "code",
      "execution_count": null,
      "metadata": {
        "id": "NrbRp-a9gGqJ"
      },
      "outputs": [],
      "source": [
        "# RS(7,3) over FiniteField(929) and evaluation points [0..7)\n",
        "\n",
        "mod929 = lambda i: ModInt(i, 929)\n",
        "\n",
        "generator = [[mod929(a**i) for i in range(3)] for a in range(7)]\n",
        "\n",
        "# encoded polynomial is (123 + 456x + 789x^2) computed using generator matrix over [0..7)\n",
        "data = list(map(mod929, [123, 456, 789]))\n",
        "code = dot(generator, data)\n",
        "\n",
        "for i in range(7):\n",
        "    for j in range(i + 1, 7):\n",
        "        for k in range(j + 1, 7):\n",
        "            # Any 3 out of 7 code elements are sufficient to recover all 3 data elements\n",
        "            assert data == inv(\n",
        "                [generator[i], generator[j], generator[k]],\n",
        "                [code[i], code[j], code[k]])\n"
      ]
    },
    {
      "cell_type": "markdown",
      "metadata": {
        "id": "gLkLcNX-gGqJ"
      },
      "source": [
        "##### Berlekamp-Welch Decoding\n",
        "\n",
        "Instead of pure erasure correction with prior knowledge of missing evaluation points,\n",
        "Reed-Solomon codes can also (theoretically) be used for error correction by decoding all possible (sufficient) combinations of code points & picking the result with majority vote. This is not efficient in practice.\n",
        "\n",
        "An efficient error correction algorithm was discovered using the following idea,\n",
        "\n",
        "Let $C'[x]$ represent the encoded polynomial evaluation points with potential errors.\n",
        "We want to compute the correct polynomial $C(x)$ using this.\n",
        "For this, we can introduce a special monic polynomial $E(x)$ which is zero only at error locations & non-zero everywhere else.\n",
        "\n",
        "Then, the following equation holds for all evaluation points,\n",
        "\n",
        "$$\n",
        "E(x) \\cdot C'[x] = E(x) \\cdot C(x)\n",
        "$$\n",
        "\n",
        "Let $Q(x) = E(x) \\cdot C(x)$, & expand for $RS(7, 3)$ assuming 2-errors,\n",
        "\n",
        "$$\n",
        "(e_0 + e_1x + x^2) \\cdot C'[x] - \\sum_{i=0}^{4} q_i x^i = 0\n",
        "$$\n",
        "\n",
        "$$\n",
        "C'[x] e_0 + x C'[x] e_1 - \\sum_{i=0}^{4} q_i x^i = -x^2 C'[x]\n",
        "$$\n",
        "\n",
        "Once we substitute the evaluation points $x$ & known evaluation results $C'[x]$, these equations are also solvable using Gaussian elimination. If there are less than 2 erroneous values, the system will not have a unique solution. In that case we can fall back to $E(x)$ & $Q(x)$ with lower degrees & repeat the process.\n",
        "\n",
        "Once $E(x)$ & $Q(x)$ are known, we can recover original data either as $\\frac{Q(x)}{E(x)}$ OR by simply erasing $C'[x]$ values for evaluation points $x$ where $E(x) = 0$ & inverting the transformation.\n",
        "\n"
      ]
    },
    {
      "cell_type": "code",
      "execution_count": null,
      "metadata": {
        "id": "dYDjBCeUgGqK"
      },
      "outputs": [],
      "source": [
        "\n",
        "# RS(7,3) over FiniteField(929) and evaluation points [0..7)\n",
        "\n",
        "mod929 = lambda i: ModInt(i, 929)\n",
        "\n",
        "generator = [[mod929(a**i) for i in range(3)] for a in range(7)]\n",
        "\n",
        "# encoded polynomial is (123 + 456x + 789x^2) computed using generator matrix over [0..7)\n",
        "data = list(map(mod929, [123, 456, 789]))\n",
        "\n",
        "from random import randrange\n",
        "\n",
        "for er0 in range(7):\n",
        "    for er1 in range(er0 + 1, 7):\n",
        "        code = dot(generator, data)\n",
        "        code[er0] += mod929(randrange(1, 929))\n",
        "        code[er1] += mod929(randrange(1, 929))\n",
        "\n",
        "        t = [\n",
        "            list(map(mod929, [\n",
        "                int(code[x]),\n",
        "                int(code[x]) * x\n",
        "            ] + [\n",
        "                -x**i for i in range(5)\n",
        "            ]))\n",
        "            for x in range(7)\n",
        "        ]\n",
        "        y = [mod929(-x*x*int(code[x])) for x in range(7)]\n",
        "\n",
        "        e = inv(t, y)[:2]\n",
        "        for x in map(mod929, range(7)):\n",
        "            assert (e[0] + x*e[1] + x*x).is_zero() == (int(x) == er0 or int(x) == er1)\n"
      ]
    }
  ],
  "metadata": {
    "kernelspec": {
      "display_name": "Python 3",
      "language": "python",
      "name": "python3"
    },
    "language_info": {
      "codemirror_mode": {
        "name": "ipython",
        "version": 3
      },
      "file_extension": ".py",
      "mimetype": "text/x-python",
      "name": "python",
      "nbconvert_exporter": "python",
      "pygments_lexer": "ipython3",
      "version": "3.9.2"
    },
    "orig_nbformat": 4,
    "colab": {
      "provenance": [],
      "include_colab_link": true
    }
  },
  "nbformat": 4,
  "nbformat_minor": 0
}