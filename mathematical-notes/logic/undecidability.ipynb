{
 "cells": [
  {
   "cell_type": "markdown",
   "metadata": {},
   "source": [
    "### Diagonal Argument\n",
    "\n",
    "Georg Cantor developed a technique to show that real numbers are not countable. The proof by contradition assumes that all finite real numbers are countable, then constructs a new number that can not be on the enumeration.\n",
    "\n",
    "Assuming that $E_i[j]$ gives us $j^{th}$ binary digit of $i^{th}$ real number. We can see that the following number differs from all the listed numbers in at least one digit, contradicting the assumption.\n",
    "\n",
    "$$\n",
    "\\boxed{ X[i] = \\neg E_i[i] }\n",
    "$$\n",
    "\n",
    "Equivalently, we can show that power set of any (infinite) set is stricly \"larger\" than the original set.\n"
   ]
  },
  {
   "cell_type": "markdown",
   "metadata": {},
   "source": [
    "### Halting Problem\n",
    "\n",
    "Alan Turing showed that it is impossible for an algorithm to determine if a given algorithm will halt for a given input.\n",
    "This follows the same diagonal argument as Cantor's construction.\n",
    "\n",
    "We represent all finite algorithms & inputs as integers. Assume $ H(i, j) $ to be the Halting oracle, which returns a boolean signifying whether the program $i$ halts on input $j$.\n",
    "\n",
    "We can see that the following program disagrees with all the evaluations of $H$ on at least one input.\n",
    "\n",
    "$$\n",
    "\\boxed{\n",
    "    F(i) = \\neg H(i, i) =\n",
    "    \\begin{cases}\n",
    "      l \\infty p, & \\text{if}\\ H(i, i) \\\\\n",
    "      halt, & \\text{otherwise}\n",
    "    \\end{cases}\n",
    "}\n",
    "$$\n",
    "\n",
    "Thus, the Halting oracle can not fully evaluate whether the program $F$ will halt or not, contradicting the premise."
   ]
  },
  {
   "cell_type": "markdown",
   "metadata": {},
   "source": [
    "### Incompleteness Theorems\n",
    "\n",
    "Kurt Gödel proved that no mathamatical theory strong enough to express basic Arithmetic can be complete and consistent at the same time.\n",
    "\n",
    "Completeness : All $True$ statements should be reachable starting from the Axioms & following some chain of inference rules.\n",
    "\n",
    "Consistency : None of the negations of $True$ statements should be reachable starting from the Axioms & following any chain of inference rules.\n",
    "\n",
    "First, note that any mathematical statement or proof can be expressed using some number (ASCII codes, TNT, Gödel's prime power based construction...).\n",
    "Consider the enumeration all statements with one free variables $S_i(j)$.\n",
    "\n",
    "Note that it is possible to define a function $T(i)$ that determines if statement enumerated at index $i$ is $True$. This can be built on top of a proof-pair function,\n",
    "\n",
    "$ T(i) = \\exists k\\ |\\ P(i, k) $, where $P(i, k)$ is $True$ if the sentence represented by $k$ proves theorem represented by $i$. \n",
    "\n",
    "$P(i, k)$ can be built on top of pure arithmetic operations, allowing us to define $T(i)$ within the system itself. We now construct a Gödel sentence as follows,\n",
    "\n",
    "$$\n",
    "\\boxed{\n",
    "G(j) \\iff \\neg T(S_j(j))\n",
    "}\n",
    "$$\n",
    "\n",
    "$$\n",
    "G \\iff G\\ is\\ not\\ provable\\ in\\ T\n",
    "$$\n",
    "\n",
    "Thus, $G$ is $True$ if it is not provable & $False$ if it is provable.\n",
    "\n",
    "For a more direct construction of this paradoxical sentence, we can use a Quine-function : Let $Q$ be a function which takes a Gödel number as an argument & replaces the free variables in the corresponding Statement with the Gödel number itself.\n",
    "\n",
    "$$\n",
    "let\\ m = \\#[\\neg T(Q(n))],\\ where\\ n\\ is\\ a\\ free\\ variable.\n",
    "$$\n",
    "\n",
    "$$\n",
    "\\boxed{\n",
    "Q(m) \\iff \\neg T(Q(m))\n",
    "}\n",
    "$$\n",
    "\n",
    "$$\n",
    "Q(m) \\iff Q(m)\\ is\\ not\\ provable\\ in\\ T\n",
    "$$\n",
    "\n",
    "Since $T$ & $Q$ can be constructed purely from arithmetic operations, this shows that \"liar's paradox\" can be created using basic mathematical constructs.\n",
    "\n",
    "Gödel also used the same sentence to show that no such mathematical system can prove its own consistency (incompleteness) without generating these paradoxes & falling into inconsistency."
   ]
  }
 ],
 "metadata": {
  "kernelspec": {
   "display_name": "Python 3",
   "language": "python",
   "name": "python3"
  },
  "language_info": {
   "codemirror_mode": {
    "name": "ipython",
    "version": 3
   },
   "file_extension": ".py",
   "mimetype": "text/x-python",
   "name": "python",
   "nbconvert_exporter": "python",
   "pygments_lexer": "ipython3",
   "version": "3.9.2"
  },
  "orig_nbformat": 4
 },
 "nbformat": 4,
 "nbformat_minor": 2
}
